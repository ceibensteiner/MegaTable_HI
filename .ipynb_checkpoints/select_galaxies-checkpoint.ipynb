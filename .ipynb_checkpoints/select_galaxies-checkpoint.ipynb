{
 "cells": [
  {
   "cell_type": "code",
   "execution_count": 1,
   "id": "9e750461-54cf-43e2-b26e-a892f58d8ab1",
   "metadata": {},
   "outputs": [],
   "source": [
    "import sys\n",
    "sys.path.append('/Users/ceibenst/Desktop/home/1-Projects/general_scripts/')\n",
    "from tools import *"
   ]
  },
  {
   "cell_type": "code",
   "execution_count": 2,
   "id": "51245858-4e99-4bcb-99b8-c20350d1e4d9",
   "metadata": {},
   "outputs": [],
   "source": [
    "sample = Table.read('sample.ecsv')"
   ]
  },
  {
   "cell_type": "code",
   "execution_count": 16,
   "id": "b4f31963-2f12-407c-8259-e0cf86fddb02",
   "metadata": {},
   "outputs": [],
   "source": [
    "rmol_paper = ['ngc1512','ngc4535', 'ngc7496', 'ngc1566', 'ngc1672', 'ngc3511', 'ngc5068', 'ic1954']\n",
    "\n",
    "sample_sel = sample[np.in1d(sample['name'],rmol_paper)]\n",
    "\n",
    "sample_sel.write('sample_rmol_paper.escv', format='ascii.ecsv',overwrite=True)"
   ]
  },
  {
   "cell_type": "code",
   "execution_count": null,
   "id": "90b452bf-2b3a-44bf-b9ec-39e923b6da8e",
   "metadata": {},
   "outputs": [],
   "source": []
  }
 ],
 "metadata": {
  "kernelspec": {
   "display_name": "Python 3 (ipykernel)",
   "language": "python",
   "name": "python3"
  },
  "language_info": {
   "codemirror_mode": {
    "name": "ipython",
    "version": 3
   },
   "file_extension": ".py",
   "mimetype": "text/x-python",
   "name": "python",
   "nbconvert_exporter": "python",
   "pygments_lexer": "ipython3",
   "version": "3.9.6"
  }
 },
 "nbformat": 4,
 "nbformat_minor": 5
}
